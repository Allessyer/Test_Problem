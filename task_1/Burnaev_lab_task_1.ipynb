{
  "nbformat": 4,
  "nbformat_minor": 0,
  "metadata": {
    "colab": {
      "name": "Burnaev_lab_task_1.ipynb",
      "provenance": [],
      "include_colab_link": true
    },
    "kernelspec": {
      "name": "python3",
      "display_name": "Python 3"
    },
    "language_info": {
      "name": "python"
    },
    "accelerator": "GPU",
    "gpuClass": "standard",
    "widgets": {
      "application/vnd.jupyter.widget-state+json": {
        "2d000b3a88324dc4b5fa38669573ac87": {
          "model_module": "@jupyter-widgets/controls",
          "model_name": "HBoxModel",
          "model_module_version": "1.5.0",
          "state": {
            "_dom_classes": [],
            "_model_module": "@jupyter-widgets/controls",
            "_model_module_version": "1.5.0",
            "_model_name": "HBoxModel",
            "_view_count": null,
            "_view_module": "@jupyter-widgets/controls",
            "_view_module_version": "1.5.0",
            "_view_name": "HBoxView",
            "box_style": "",
            "children": [
              "IPY_MODEL_15f58dd471f14d15b6a5dcbb23546354",
              "IPY_MODEL_640af8a0c48549f5a0fc6dd53d6fe3af",
              "IPY_MODEL_1d1a0a9f6ed14d7f9ff516009473b326"
            ],
            "layout": "IPY_MODEL_7ecdd42b033c4e75a217ba7b00411a1f"
          }
        },
        "15f58dd471f14d15b6a5dcbb23546354": {
          "model_module": "@jupyter-widgets/controls",
          "model_name": "HTMLModel",
          "model_module_version": "1.5.0",
          "state": {
            "_dom_classes": [],
            "_model_module": "@jupyter-widgets/controls",
            "_model_module_version": "1.5.0",
            "_model_name": "HTMLModel",
            "_view_count": null,
            "_view_module": "@jupyter-widgets/controls",
            "_view_module_version": "1.5.0",
            "_view_name": "HTMLView",
            "description": "",
            "description_tooltip": null,
            "layout": "IPY_MODEL_6903de5d9e194bfca9800f423a26512d",
            "placeholder": "​",
            "style": "IPY_MODEL_02f61535477741b3ad9c185c8c0e06c0",
            "value": ""
          }
        },
        "640af8a0c48549f5a0fc6dd53d6fe3af": {
          "model_module": "@jupyter-widgets/controls",
          "model_name": "FloatProgressModel",
          "model_module_version": "1.5.0",
          "state": {
            "_dom_classes": [],
            "_model_module": "@jupyter-widgets/controls",
            "_model_module_version": "1.5.0",
            "_model_name": "FloatProgressModel",
            "_view_count": null,
            "_view_module": "@jupyter-widgets/controls",
            "_view_module_version": "1.5.0",
            "_view_name": "ProgressView",
            "bar_style": "success",
            "description": "",
            "description_tooltip": null,
            "layout": "IPY_MODEL_0149c16cc9ba47e7a963469cfdc3496c",
            "max": 170498071,
            "min": 0,
            "orientation": "horizontal",
            "style": "IPY_MODEL_afc688eb326346fb92ee9b2d292eeb68",
            "value": 170498071
          }
        },
        "1d1a0a9f6ed14d7f9ff516009473b326": {
          "model_module": "@jupyter-widgets/controls",
          "model_name": "HTMLModel",
          "model_module_version": "1.5.0",
          "state": {
            "_dom_classes": [],
            "_model_module": "@jupyter-widgets/controls",
            "_model_module_version": "1.5.0",
            "_model_name": "HTMLModel",
            "_view_count": null,
            "_view_module": "@jupyter-widgets/controls",
            "_view_module_version": "1.5.0",
            "_view_name": "HTMLView",
            "description": "",
            "description_tooltip": null,
            "layout": "IPY_MODEL_58eec37b70bd43dfa60a5d0d95f3e6fa",
            "placeholder": "​",
            "style": "IPY_MODEL_25419736dfea4c66bbdafddafb05ec79",
            "value": " 170499072/? [00:07&lt;00:00, 36193811.50it/s]"
          }
        },
        "7ecdd42b033c4e75a217ba7b00411a1f": {
          "model_module": "@jupyter-widgets/base",
          "model_name": "LayoutModel",
          "model_module_version": "1.2.0",
          "state": {
            "_model_module": "@jupyter-widgets/base",
            "_model_module_version": "1.2.0",
            "_model_name": "LayoutModel",
            "_view_count": null,
            "_view_module": "@jupyter-widgets/base",
            "_view_module_version": "1.2.0",
            "_view_name": "LayoutView",
            "align_content": null,
            "align_items": null,
            "align_self": null,
            "border": null,
            "bottom": null,
            "display": null,
            "flex": null,
            "flex_flow": null,
            "grid_area": null,
            "grid_auto_columns": null,
            "grid_auto_flow": null,
            "grid_auto_rows": null,
            "grid_column": null,
            "grid_gap": null,
            "grid_row": null,
            "grid_template_areas": null,
            "grid_template_columns": null,
            "grid_template_rows": null,
            "height": null,
            "justify_content": null,
            "justify_items": null,
            "left": null,
            "margin": null,
            "max_height": null,
            "max_width": null,
            "min_height": null,
            "min_width": null,
            "object_fit": null,
            "object_position": null,
            "order": null,
            "overflow": null,
            "overflow_x": null,
            "overflow_y": null,
            "padding": null,
            "right": null,
            "top": null,
            "visibility": null,
            "width": null
          }
        },
        "6903de5d9e194bfca9800f423a26512d": {
          "model_module": "@jupyter-widgets/base",
          "model_name": "LayoutModel",
          "model_module_version": "1.2.0",
          "state": {
            "_model_module": "@jupyter-widgets/base",
            "_model_module_version": "1.2.0",
            "_model_name": "LayoutModel",
            "_view_count": null,
            "_view_module": "@jupyter-widgets/base",
            "_view_module_version": "1.2.0",
            "_view_name": "LayoutView",
            "align_content": null,
            "align_items": null,
            "align_self": null,
            "border": null,
            "bottom": null,
            "display": null,
            "flex": null,
            "flex_flow": null,
            "grid_area": null,
            "grid_auto_columns": null,
            "grid_auto_flow": null,
            "grid_auto_rows": null,
            "grid_column": null,
            "grid_gap": null,
            "grid_row": null,
            "grid_template_areas": null,
            "grid_template_columns": null,
            "grid_template_rows": null,
            "height": null,
            "justify_content": null,
            "justify_items": null,
            "left": null,
            "margin": null,
            "max_height": null,
            "max_width": null,
            "min_height": null,
            "min_width": null,
            "object_fit": null,
            "object_position": null,
            "order": null,
            "overflow": null,
            "overflow_x": null,
            "overflow_y": null,
            "padding": null,
            "right": null,
            "top": null,
            "visibility": null,
            "width": null
          }
        },
        "02f61535477741b3ad9c185c8c0e06c0": {
          "model_module": "@jupyter-widgets/controls",
          "model_name": "DescriptionStyleModel",
          "model_module_version": "1.5.0",
          "state": {
            "_model_module": "@jupyter-widgets/controls",
            "_model_module_version": "1.5.0",
            "_model_name": "DescriptionStyleModel",
            "_view_count": null,
            "_view_module": "@jupyter-widgets/base",
            "_view_module_version": "1.2.0",
            "_view_name": "StyleView",
            "description_width": ""
          }
        },
        "0149c16cc9ba47e7a963469cfdc3496c": {
          "model_module": "@jupyter-widgets/base",
          "model_name": "LayoutModel",
          "model_module_version": "1.2.0",
          "state": {
            "_model_module": "@jupyter-widgets/base",
            "_model_module_version": "1.2.0",
            "_model_name": "LayoutModel",
            "_view_count": null,
            "_view_module": "@jupyter-widgets/base",
            "_view_module_version": "1.2.0",
            "_view_name": "LayoutView",
            "align_content": null,
            "align_items": null,
            "align_self": null,
            "border": null,
            "bottom": null,
            "display": null,
            "flex": null,
            "flex_flow": null,
            "grid_area": null,
            "grid_auto_columns": null,
            "grid_auto_flow": null,
            "grid_auto_rows": null,
            "grid_column": null,
            "grid_gap": null,
            "grid_row": null,
            "grid_template_areas": null,
            "grid_template_columns": null,
            "grid_template_rows": null,
            "height": null,
            "justify_content": null,
            "justify_items": null,
            "left": null,
            "margin": null,
            "max_height": null,
            "max_width": null,
            "min_height": null,
            "min_width": null,
            "object_fit": null,
            "object_position": null,
            "order": null,
            "overflow": null,
            "overflow_x": null,
            "overflow_y": null,
            "padding": null,
            "right": null,
            "top": null,
            "visibility": null,
            "width": null
          }
        },
        "afc688eb326346fb92ee9b2d292eeb68": {
          "model_module": "@jupyter-widgets/controls",
          "model_name": "ProgressStyleModel",
          "model_module_version": "1.5.0",
          "state": {
            "_model_module": "@jupyter-widgets/controls",
            "_model_module_version": "1.5.0",
            "_model_name": "ProgressStyleModel",
            "_view_count": null,
            "_view_module": "@jupyter-widgets/base",
            "_view_module_version": "1.2.0",
            "_view_name": "StyleView",
            "bar_color": null,
            "description_width": ""
          }
        },
        "58eec37b70bd43dfa60a5d0d95f3e6fa": {
          "model_module": "@jupyter-widgets/base",
          "model_name": "LayoutModel",
          "model_module_version": "1.2.0",
          "state": {
            "_model_module": "@jupyter-widgets/base",
            "_model_module_version": "1.2.0",
            "_model_name": "LayoutModel",
            "_view_count": null,
            "_view_module": "@jupyter-widgets/base",
            "_view_module_version": "1.2.0",
            "_view_name": "LayoutView",
            "align_content": null,
            "align_items": null,
            "align_self": null,
            "border": null,
            "bottom": null,
            "display": null,
            "flex": null,
            "flex_flow": null,
            "grid_area": null,
            "grid_auto_columns": null,
            "grid_auto_flow": null,
            "grid_auto_rows": null,
            "grid_column": null,
            "grid_gap": null,
            "grid_row": null,
            "grid_template_areas": null,
            "grid_template_columns": null,
            "grid_template_rows": null,
            "height": null,
            "justify_content": null,
            "justify_items": null,
            "left": null,
            "margin": null,
            "max_height": null,
            "max_width": null,
            "min_height": null,
            "min_width": null,
            "object_fit": null,
            "object_position": null,
            "order": null,
            "overflow": null,
            "overflow_x": null,
            "overflow_y": null,
            "padding": null,
            "right": null,
            "top": null,
            "visibility": null,
            "width": null
          }
        },
        "25419736dfea4c66bbdafddafb05ec79": {
          "model_module": "@jupyter-widgets/controls",
          "model_name": "DescriptionStyleModel",
          "model_module_version": "1.5.0",
          "state": {
            "_model_module": "@jupyter-widgets/controls",
            "_model_module_version": "1.5.0",
            "_model_name": "DescriptionStyleModel",
            "_view_count": null,
            "_view_module": "@jupyter-widgets/base",
            "_view_module_version": "1.2.0",
            "_view_name": "StyleView",
            "description_width": ""
          }
        }
      }
    }
  },
  "cells": [
    {
      "cell_type": "markdown",
      "metadata": {
        "id": "view-in-github",
        "colab_type": "text"
      },
      "source": [
        "<a href=\"https://colab.research.google.com/github/Allessyer/Test_Problem/blob/main/task_1/Burnaev_lab_task_1.ipynb\" target=\"_parent\"><img src=\"https://colab.research.google.com/assets/colab-badge.svg\" alt=\"Open In Colab\"/></a>"
      ]
    },
    {
      "cell_type": "markdown",
      "source": [
        "### Installation"
      ],
      "metadata": {
        "id": "J9Vha2p_v4Dm"
      }
    },
    {
      "cell_type": "code",
      "source": [
        "from google.colab import drive\n",
        "drive.mount('/content/drive')"
      ],
      "metadata": {
        "colab": {
          "base_uri": "https://localhost:8080/"
        },
        "id": "2pkPPTe5yCMA",
        "outputId": "349c3fa7-b812-4460-ac33-ea845ea4722d"
      },
      "execution_count": 2,
      "outputs": [
        {
          "output_type": "stream",
          "name": "stdout",
          "text": [
            "Drive already mounted at /content/drive; to attempt to forcibly remount, call drive.mount(\"/content/drive\", force_remount=True).\n"
          ]
        }
      ]
    },
    {
      "cell_type": "code",
      "source": [
        "# cd /content/drive/MyDrive/Стажировки/Burnaev_lab"
      ],
      "metadata": {
        "id": "dYuVJeWev_8M"
      },
      "execution_count": 3,
      "outputs": []
    },
    {
      "cell_type": "code",
      "source": [
        "# !git clone https://github.com/cloneofsimo/minDiffusion"
      ],
      "metadata": {
        "id": "W_XT0LGVwDcI"
      },
      "execution_count": 4,
      "outputs": []
    },
    {
      "cell_type": "code",
      "source": [
        "cd /content/drive/MyDrive/Стажировки/Burnaev_lab/minDiffusion"
      ],
      "metadata": {
        "colab": {
          "base_uri": "https://localhost:8080/"
        },
        "id": "USJ9J2JIwm01",
        "outputId": "c8caa2ba-3c95-43b9-895f-7c02768a6260"
      },
      "execution_count": 5,
      "outputs": [
        {
          "output_type": "stream",
          "name": "stdout",
          "text": [
            "/content/drive/MyDrive/Стажировки/Burnaev_lab/minDiffusion\n"
          ]
        }
      ]
    },
    {
      "cell_type": "markdown",
      "source": [
        "### Libraries"
      ],
      "metadata": {
        "id": "iJjCtCnrwsCf"
      }
    },
    {
      "cell_type": "code",
      "source": [
        "from typing import Dict, Tuple\n",
        "from tqdm import tqdm\n",
        "\n",
        "import torch\n",
        "import torch.nn as nn\n",
        "from torch.utils.data import DataLoader\n",
        "\n",
        "from torchvision.datasets import MNIST\n",
        "from torchvision.datasets import CIFAR10\n",
        "from torchvision import transforms\n",
        "from torchvision.utils import save_image, make_grid\n",
        "from torchvision.datasets import ImageFolder\n",
        "import os\n",
        "\n",
        "\n",
        "import matplotlib.pyplot as plt\n",
        "import numpy as np\n",
        "\n",
        "device=\"cuda:0\""
      ],
      "metadata": {
        "id": "Aq7p73L3wpzt"
      },
      "execution_count": 6,
      "outputs": []
    },
    {
      "cell_type": "code",
      "source": [
        "from torchvision import datasets\n",
        "from torchvision import transforms\n",
        "from torch.utils.data import Dataset\n",
        "from torch.utils.data import DataLoader\n",
        "\n",
        "import numpy as np\n",
        "import pandas as pd\n",
        "import matplotlib.pyplot as plt\n",
        "from skimage import io\n",
        "\n",
        "from os import listdir\n",
        "from os.path import isfile, join\n",
        "import os\n",
        "import cv2"
      ],
      "metadata": {
        "id": "DYyWnesK1mmW"
      },
      "execution_count": 7,
      "outputs": []
    },
    {
      "cell_type": "code",
      "source": [
        "!nvidia-smi"
      ],
      "metadata": {
        "colab": {
          "base_uri": "https://localhost:8080/"
        },
        "id": "sKEx6W9MO4YA",
        "outputId": "9df1871f-eeb6-405a-c541-2a4a7fb9263e"
      },
      "execution_count": 8,
      "outputs": [
        {
          "output_type": "stream",
          "name": "stdout",
          "text": [
            "Sat Jul  9 00:57:36 2022       \n",
            "+-----------------------------------------------------------------------------+\n",
            "| NVIDIA-SMI 460.32.03    Driver Version: 460.32.03    CUDA Version: 11.2     |\n",
            "|-------------------------------+----------------------+----------------------+\n",
            "| GPU  Name        Persistence-M| Bus-Id        Disp.A | Volatile Uncorr. ECC |\n",
            "| Fan  Temp  Perf  Pwr:Usage/Cap|         Memory-Usage | GPU-Util  Compute M. |\n",
            "|                               |                      |               MIG M. |\n",
            "|===============================+======================+======================|\n",
            "|   0  Tesla T4            Off  | 00000000:00:04.0 Off |                    0 |\n",
            "| N/A   51C    P8     9W /  70W |      0MiB / 15109MiB |      0%      Default |\n",
            "|                               |                      |                  N/A |\n",
            "+-------------------------------+----------------------+----------------------+\n",
            "                                                                               \n",
            "+-----------------------------------------------------------------------------+\n",
            "| Processes:                                                                  |\n",
            "|  GPU   GI   CI        PID   Type   Process name                  GPU Memory |\n",
            "|        ID   ID                                                   Usage      |\n",
            "|=============================================================================|\n",
            "|  No running processes found                                                 |\n",
            "+-----------------------------------------------------------------------------+\n"
          ]
        }
      ]
    },
    {
      "cell_type": "markdown",
      "source": [
        "### My functions"
      ],
      "metadata": {
        "id": "Oa4dCxGBxMW1"
      }
    },
    {
      "cell_type": "code",
      "source": [
        "class UnNormalize(object):\n",
        "    def __init__(self, mean, std):\n",
        "        self.mean = mean\n",
        "        self.std = std\n",
        "\n",
        "    def __call__(self, tensor):\n",
        "        \"\"\"\n",
        "        Args:\n",
        "            tensor (Tensor): Tensor image of size (C, H, W) to be normalized.\n",
        "        Returns:\n",
        "            Tensor: Normalized image.\n",
        "        \"\"\"\n",
        "        for t, m, s in zip(tensor, self.mean, self.std):\n",
        "            t.mul_(s).add_(m)\n",
        "            # The normalize code -> t.sub_(m).div_(s)\n",
        "        return tensor"
      ],
      "metadata": {
        "id": "PVLcmNBjIITd"
      },
      "execution_count": 9,
      "outputs": []
    },
    {
      "cell_type": "code",
      "source": [
        "def plot_image(image):\n",
        "    unorm = UnNormalize(mean=(0.5, 0.5, 0.5), std=(0.5, 0.5, 0.5))\n",
        "    image = unorm(image)\n",
        "    image = image.numpy()\n",
        "    image = np.rollaxis(image,0,3)\n",
        "    plt.imshow(image)\n",
        "    plt.show()"
      ],
      "metadata": {
        "id": "EUtt1JlUxOot"
      },
      "execution_count": 10,
      "outputs": []
    },
    {
      "cell_type": "markdown",
      "source": [
        "### Model"
      ],
      "metadata": {
        "id": "vItj8rgGw2nR"
      }
    },
    {
      "cell_type": "code",
      "source": [
        "from mindiffusion.unet import NaiveUnet\n",
        "from mindiffusion.ddpm import DDPM"
      ],
      "metadata": {
        "id": "JIkHEcJPw4Hz"
      },
      "execution_count": 11,
      "outputs": []
    },
    {
      "cell_type": "code",
      "source": [
        "ddpm = DDPM(eps_model=NaiveUnet(3, 3, n_feat=128), betas=(1e-4, 0.02), n_T=1000)\n",
        "ddpm.to(device)"
      ],
      "metadata": {
        "colab": {
          "base_uri": "https://localhost:8080/"
        },
        "id": "I6VLrfczw6H5",
        "outputId": "39379133-2173-480e-c629-395c44226ebf"
      },
      "execution_count": 12,
      "outputs": [
        {
          "output_type": "execute_result",
          "data": {
            "text/plain": [
              "DDPM(\n",
              "  (eps_model): NaiveUnet(\n",
              "    (init_conv): Conv3(\n",
              "      (main): Sequential(\n",
              "        (0): Conv2d(3, 128, kernel_size=(3, 3), stride=(1, 1), padding=(1, 1))\n",
              "        (1): GroupNorm(8, 128, eps=1e-05, affine=True)\n",
              "        (2): ReLU()\n",
              "      )\n",
              "      (conv): Sequential(\n",
              "        (0): Conv2d(128, 128, kernel_size=(3, 3), stride=(1, 1), padding=(1, 1))\n",
              "        (1): GroupNorm(8, 128, eps=1e-05, affine=True)\n",
              "        (2): ReLU()\n",
              "        (3): Conv2d(128, 128, kernel_size=(3, 3), stride=(1, 1), padding=(1, 1))\n",
              "        (4): GroupNorm(8, 128, eps=1e-05, affine=True)\n",
              "        (5): ReLU()\n",
              "      )\n",
              "    )\n",
              "    (down1): UnetDown(\n",
              "      (model): Sequential(\n",
              "        (0): Conv3(\n",
              "          (main): Sequential(\n",
              "            (0): Conv2d(128, 128, kernel_size=(3, 3), stride=(1, 1), padding=(1, 1))\n",
              "            (1): GroupNorm(8, 128, eps=1e-05, affine=True)\n",
              "            (2): ReLU()\n",
              "          )\n",
              "          (conv): Sequential(\n",
              "            (0): Conv2d(128, 128, kernel_size=(3, 3), stride=(1, 1), padding=(1, 1))\n",
              "            (1): GroupNorm(8, 128, eps=1e-05, affine=True)\n",
              "            (2): ReLU()\n",
              "            (3): Conv2d(128, 128, kernel_size=(3, 3), stride=(1, 1), padding=(1, 1))\n",
              "            (4): GroupNorm(8, 128, eps=1e-05, affine=True)\n",
              "            (5): ReLU()\n",
              "          )\n",
              "        )\n",
              "        (1): MaxPool2d(kernel_size=2, stride=2, padding=0, dilation=1, ceil_mode=False)\n",
              "      )\n",
              "    )\n",
              "    (down2): UnetDown(\n",
              "      (model): Sequential(\n",
              "        (0): Conv3(\n",
              "          (main): Sequential(\n",
              "            (0): Conv2d(128, 256, kernel_size=(3, 3), stride=(1, 1), padding=(1, 1))\n",
              "            (1): GroupNorm(8, 256, eps=1e-05, affine=True)\n",
              "            (2): ReLU()\n",
              "          )\n",
              "          (conv): Sequential(\n",
              "            (0): Conv2d(256, 256, kernel_size=(3, 3), stride=(1, 1), padding=(1, 1))\n",
              "            (1): GroupNorm(8, 256, eps=1e-05, affine=True)\n",
              "            (2): ReLU()\n",
              "            (3): Conv2d(256, 256, kernel_size=(3, 3), stride=(1, 1), padding=(1, 1))\n",
              "            (4): GroupNorm(8, 256, eps=1e-05, affine=True)\n",
              "            (5): ReLU()\n",
              "          )\n",
              "        )\n",
              "        (1): MaxPool2d(kernel_size=2, stride=2, padding=0, dilation=1, ceil_mode=False)\n",
              "      )\n",
              "    )\n",
              "    (down3): UnetDown(\n",
              "      (model): Sequential(\n",
              "        (0): Conv3(\n",
              "          (main): Sequential(\n",
              "            (0): Conv2d(256, 256, kernel_size=(3, 3), stride=(1, 1), padding=(1, 1))\n",
              "            (1): GroupNorm(8, 256, eps=1e-05, affine=True)\n",
              "            (2): ReLU()\n",
              "          )\n",
              "          (conv): Sequential(\n",
              "            (0): Conv2d(256, 256, kernel_size=(3, 3), stride=(1, 1), padding=(1, 1))\n",
              "            (1): GroupNorm(8, 256, eps=1e-05, affine=True)\n",
              "            (2): ReLU()\n",
              "            (3): Conv2d(256, 256, kernel_size=(3, 3), stride=(1, 1), padding=(1, 1))\n",
              "            (4): GroupNorm(8, 256, eps=1e-05, affine=True)\n",
              "            (5): ReLU()\n",
              "          )\n",
              "        )\n",
              "        (1): MaxPool2d(kernel_size=2, stride=2, padding=0, dilation=1, ceil_mode=False)\n",
              "      )\n",
              "    )\n",
              "    (to_vec): Sequential(\n",
              "      (0): AvgPool2d(kernel_size=4, stride=4, padding=0)\n",
              "      (1): ReLU()\n",
              "    )\n",
              "    (timeembed): TimeSiren(\n",
              "      (lin1): Linear(in_features=1, out_features=256, bias=False)\n",
              "      (lin2): Linear(in_features=256, out_features=256, bias=True)\n",
              "    )\n",
              "    (up0): Sequential(\n",
              "      (0): ConvTranspose2d(256, 256, kernel_size=(4, 4), stride=(4, 4))\n",
              "      (1): GroupNorm(8, 256, eps=1e-05, affine=True)\n",
              "      (2): ReLU()\n",
              "    )\n",
              "    (up1): UnetUp(\n",
              "      (model): Sequential(\n",
              "        (0): ConvTranspose2d(512, 256, kernel_size=(2, 2), stride=(2, 2))\n",
              "        (1): Conv3(\n",
              "          (main): Sequential(\n",
              "            (0): Conv2d(256, 256, kernel_size=(3, 3), stride=(1, 1), padding=(1, 1))\n",
              "            (1): GroupNorm(8, 256, eps=1e-05, affine=True)\n",
              "            (2): ReLU()\n",
              "          )\n",
              "          (conv): Sequential(\n",
              "            (0): Conv2d(256, 256, kernel_size=(3, 3), stride=(1, 1), padding=(1, 1))\n",
              "            (1): GroupNorm(8, 256, eps=1e-05, affine=True)\n",
              "            (2): ReLU()\n",
              "            (3): Conv2d(256, 256, kernel_size=(3, 3), stride=(1, 1), padding=(1, 1))\n",
              "            (4): GroupNorm(8, 256, eps=1e-05, affine=True)\n",
              "            (5): ReLU()\n",
              "          )\n",
              "        )\n",
              "        (2): Conv3(\n",
              "          (main): Sequential(\n",
              "            (0): Conv2d(256, 256, kernel_size=(3, 3), stride=(1, 1), padding=(1, 1))\n",
              "            (1): GroupNorm(8, 256, eps=1e-05, affine=True)\n",
              "            (2): ReLU()\n",
              "          )\n",
              "          (conv): Sequential(\n",
              "            (0): Conv2d(256, 256, kernel_size=(3, 3), stride=(1, 1), padding=(1, 1))\n",
              "            (1): GroupNorm(8, 256, eps=1e-05, affine=True)\n",
              "            (2): ReLU()\n",
              "            (3): Conv2d(256, 256, kernel_size=(3, 3), stride=(1, 1), padding=(1, 1))\n",
              "            (4): GroupNorm(8, 256, eps=1e-05, affine=True)\n",
              "            (5): ReLU()\n",
              "          )\n",
              "        )\n",
              "      )\n",
              "    )\n",
              "    (up2): UnetUp(\n",
              "      (model): Sequential(\n",
              "        (0): ConvTranspose2d(512, 128, kernel_size=(2, 2), stride=(2, 2))\n",
              "        (1): Conv3(\n",
              "          (main): Sequential(\n",
              "            (0): Conv2d(128, 128, kernel_size=(3, 3), stride=(1, 1), padding=(1, 1))\n",
              "            (1): GroupNorm(8, 128, eps=1e-05, affine=True)\n",
              "            (2): ReLU()\n",
              "          )\n",
              "          (conv): Sequential(\n",
              "            (0): Conv2d(128, 128, kernel_size=(3, 3), stride=(1, 1), padding=(1, 1))\n",
              "            (1): GroupNorm(8, 128, eps=1e-05, affine=True)\n",
              "            (2): ReLU()\n",
              "            (3): Conv2d(128, 128, kernel_size=(3, 3), stride=(1, 1), padding=(1, 1))\n",
              "            (4): GroupNorm(8, 128, eps=1e-05, affine=True)\n",
              "            (5): ReLU()\n",
              "          )\n",
              "        )\n",
              "        (2): Conv3(\n",
              "          (main): Sequential(\n",
              "            (0): Conv2d(128, 128, kernel_size=(3, 3), stride=(1, 1), padding=(1, 1))\n",
              "            (1): GroupNorm(8, 128, eps=1e-05, affine=True)\n",
              "            (2): ReLU()\n",
              "          )\n",
              "          (conv): Sequential(\n",
              "            (0): Conv2d(128, 128, kernel_size=(3, 3), stride=(1, 1), padding=(1, 1))\n",
              "            (1): GroupNorm(8, 128, eps=1e-05, affine=True)\n",
              "            (2): ReLU()\n",
              "            (3): Conv2d(128, 128, kernel_size=(3, 3), stride=(1, 1), padding=(1, 1))\n",
              "            (4): GroupNorm(8, 128, eps=1e-05, affine=True)\n",
              "            (5): ReLU()\n",
              "          )\n",
              "        )\n",
              "      )\n",
              "    )\n",
              "    (up3): UnetUp(\n",
              "      (model): Sequential(\n",
              "        (0): ConvTranspose2d(256, 128, kernel_size=(2, 2), stride=(2, 2))\n",
              "        (1): Conv3(\n",
              "          (main): Sequential(\n",
              "            (0): Conv2d(128, 128, kernel_size=(3, 3), stride=(1, 1), padding=(1, 1))\n",
              "            (1): GroupNorm(8, 128, eps=1e-05, affine=True)\n",
              "            (2): ReLU()\n",
              "          )\n",
              "          (conv): Sequential(\n",
              "            (0): Conv2d(128, 128, kernel_size=(3, 3), stride=(1, 1), padding=(1, 1))\n",
              "            (1): GroupNorm(8, 128, eps=1e-05, affine=True)\n",
              "            (2): ReLU()\n",
              "            (3): Conv2d(128, 128, kernel_size=(3, 3), stride=(1, 1), padding=(1, 1))\n",
              "            (4): GroupNorm(8, 128, eps=1e-05, affine=True)\n",
              "            (5): ReLU()\n",
              "          )\n",
              "        )\n",
              "        (2): Conv3(\n",
              "          (main): Sequential(\n",
              "            (0): Conv2d(128, 128, kernel_size=(3, 3), stride=(1, 1), padding=(1, 1))\n",
              "            (1): GroupNorm(8, 128, eps=1e-05, affine=True)\n",
              "            (2): ReLU()\n",
              "          )\n",
              "          (conv): Sequential(\n",
              "            (0): Conv2d(128, 128, kernel_size=(3, 3), stride=(1, 1), padding=(1, 1))\n",
              "            (1): GroupNorm(8, 128, eps=1e-05, affine=True)\n",
              "            (2): ReLU()\n",
              "            (3): Conv2d(128, 128, kernel_size=(3, 3), stride=(1, 1), padding=(1, 1))\n",
              "            (4): GroupNorm(8, 128, eps=1e-05, affine=True)\n",
              "            (5): ReLU()\n",
              "          )\n",
              "        )\n",
              "      )\n",
              "    )\n",
              "    (out): Conv2d(256, 3, kernel_size=(3, 3), stride=(1, 1), padding=(1, 1))\n",
              "  )\n",
              "  (criterion): MSELoss()\n",
              ")"
            ]
          },
          "metadata": {},
          "execution_count": 12
        }
      ]
    },
    {
      "cell_type": "markdown",
      "source": [
        "### Dataset"
      ],
      "metadata": {
        "id": "cZYGG99pw9zQ"
      }
    },
    {
      "cell_type": "markdown",
      "source": [
        "#### CIFAR10"
      ],
      "metadata": {
        "id": "lhHYDHK2xCZV"
      }
    },
    {
      "cell_type": "code",
      "source": [
        "tf = transforms.Compose(\n",
        "        [\n",
        "            transforms.ToTensor(), \n",
        "            transforms.Normalize((0.5, 0.5, 0.5), (0.5, 0.5, 0.5))\n",
        "        ]\n",
        "    )\n",
        "\n",
        "dataset = CIFAR10(\n",
        "    \"./data\",\n",
        "    train=True,\n",
        "    download=True,\n",
        "    transform=tf,\n",
        ")\n",
        "\n",
        "dataloader = DataLoader(dataset, batch_size=512, shuffle=True, num_workers=16)\n",
        "optim = torch.optim.Adam(ddpm.parameters(), lr=1e-5)"
      ],
      "metadata": {
        "colab": {
          "base_uri": "https://localhost:8080/",
          "height": 138,
          "referenced_widgets": [
            "2d000b3a88324dc4b5fa38669573ac87",
            "15f58dd471f14d15b6a5dcbb23546354",
            "640af8a0c48549f5a0fc6dd53d6fe3af",
            "1d1a0a9f6ed14d7f9ff516009473b326",
            "7ecdd42b033c4e75a217ba7b00411a1f",
            "6903de5d9e194bfca9800f423a26512d",
            "02f61535477741b3ad9c185c8c0e06c0",
            "0149c16cc9ba47e7a963469cfdc3496c",
            "afc688eb326346fb92ee9b2d292eeb68",
            "58eec37b70bd43dfa60a5d0d95f3e6fa",
            "25419736dfea4c66bbdafddafb05ec79"
          ]
        },
        "id": "3SOruAlsw_2T",
        "outputId": "18eb205a-8267-496a-dc1a-0b8184ad1967"
      },
      "execution_count": null,
      "outputs": [
        {
          "output_type": "stream",
          "name": "stdout",
          "text": [
            "Downloading https://www.cs.toronto.edu/~kriz/cifar-10-python.tar.gz to ./data/cifar-10-python.tar.gz\n"
          ]
        },
        {
          "output_type": "display_data",
          "data": {
            "text/plain": [
              "  0%|          | 0/170498071 [00:00<?, ?it/s]"
            ],
            "application/vnd.jupyter.widget-view+json": {
              "version_major": 2,
              "version_minor": 0,
              "model_id": "2d000b3a88324dc4b5fa38669573ac87"
            }
          },
          "metadata": {}
        },
        {
          "output_type": "stream",
          "name": "stdout",
          "text": [
            "Extracting ./data/cifar-10-python.tar.gz to ./data\n"
          ]
        },
        {
          "output_type": "stream",
          "name": "stderr",
          "text": [
            "/usr/local/lib/python3.7/dist-packages/torch/utils/data/dataloader.py:490: UserWarning: This DataLoader will create 16 worker processes in total. Our suggested max number of worker in current system is 2, which is smaller than what this DataLoader is going to create. Please be aware that excessive worker creation might get DataLoader running slow or even freeze, lower the worker number to avoid potential slowness/freeze if necessary.\n",
            "  cpuset_checked))\n"
          ]
        }
      ]
    },
    {
      "cell_type": "code",
      "source": [
        "image, label = dataset[5]\n",
        "plot_image(image)"
      ],
      "metadata": {
        "colab": {
          "base_uri": "https://localhost:8080/",
          "height": 283
        },
        "id": "9F3nVxb4xJLT",
        "outputId": "14a624ba-e4ef-4c58-cff7-4de51f535a66"
      },
      "execution_count": null,
      "outputs": [
        {
          "output_type": "stream",
          "name": "stderr",
          "text": [
            "Clipping input data to the valid range for imshow with RGB data ([0..1] for floats or [0..255] for integers).\n"
          ]
        },
        {
          "output_type": "display_data",
          "data": {
            "text/plain": [
              "<Figure size 432x288 with 1 Axes>"
            ],
            "image/png": "[encoded data removed]"
          },
          "metadata": {
            "needs_background": "light"
          }
        }
      ]
    },
    {
      "cell_type": "markdown",
      "source": [
        "#### FoodNet Dataset"
      ],
      "metadata": {
        "id": "2DHLkQHx1LKc"
      }
    },
    {
      "cell_type": "markdown",
      "source": [
        "##### Create annotations file"
      ],
      "metadata": {
        "id": "Yn9tSEME1sBq"
      }
    },
    {
      "cell_type": "code",
      "source": [
        "def create_annotations_file(path2Datasetdir, mode):\n",
        "    df = pd.DataFrame()\n",
        "\n",
        "    path2folder = f'{path2Datasetdir}/{mode}/{mode}-org-img'\n",
        "    onlyfiles = [f for f in listdir(path2folder) if isfile(join(path2folder, f))]\n",
        "    df['image'] = onlyfiles\n",
        "    df['label'] = np.full(df.shape[0], 0)\n",
        "    df['mode'] = np.full(df.shape[0], mode)\n",
        "\n",
        "    return df"
      ],
      "metadata": {
        "id": "H1Q7FsHp1WUw"
      },
      "execution_count": null,
      "outputs": []
    },
    {
      "cell_type": "code",
      "source": [
        "path2Datasetdir = \"/content/drive/MyDrive/Стажировки/Burnaev_lab/FloodNet_Dataset/FloodNet-Supervised_v1.0\""
      ],
      "metadata": {
        "id": "mcVF4FS41WLo"
      },
      "execution_count": null,
      "outputs": []
    },
    {
      "cell_type": "code",
      "source": [
        "df_train = create_annotations_file(path2Datasetdir, mode='train')\n",
        "df_valid = create_annotations_file(path2Datasetdir, mode='val')\n",
        "df_test = create_annotations_file(path2Datasetdir, mode='test')\n",
        "df = pd.concat([df_train, df_valid, df_test])"
      ],
      "metadata": {
        "id": "k1lwsEWQ10ZI"
      },
      "execution_count": null,
      "outputs": []
    },
    {
      "cell_type": "code",
      "source": [
        "path2save = '/content/drive/MyDrive/Стажировки/Burnaev_lab/FloodNet_Dataset'\n",
        "df.to_csv(f'{path2save}/annotations_file.csv',index=False)"
      ],
      "metadata": {
        "id": "Q-rOnjBh18gT"
      },
      "execution_count": null,
      "outputs": []
    },
    {
      "cell_type": "markdown",
      "source": [
        "##### Create FloodNet Dataset"
      ],
      "metadata": {
        "id": "mhqjqRqp2M67"
      }
    },
    {
      "cell_type": "code",
      "source": [
        "class FloodNetDataset(Dataset):\n",
        "    def __init__(self, annotations_file, dataset_dir, mode, transform=None):\n",
        "        self.mode = mode\n",
        "        self.dataset_dir = dataset_dir\n",
        "        df = pd.read_csv(annotations_file)\n",
        "        self.annotations = df[df['mode'] == self.mode]  \n",
        "        self.transform = transform\n",
        "\n",
        "    def __len__(self):\n",
        "        return len(self.annotations)\n",
        "\n",
        "    def __getitem__(self, index):\n",
        "        label = self._get_sample_label(index)\n",
        "        sample_path = self._get_sample_path(index)\n",
        "        image = io.imread(sample_path)\n",
        "\n",
        "        if self.transform:\n",
        "            image = self.transform(image)\n",
        "\n",
        "        return (image, label)\n",
        "\n",
        "    def _get_sample_path(self, index):\n",
        "        path = os.path.join(self.dataset_dir, self.mode, f'{self.mode}-org-img', \n",
        "                            self.annotations.iloc[index, 0])\n",
        "        return path\n",
        "\n",
        "    def _get_sample_label(self, index):\n",
        "        return torch.tensor(self.annotations.iloc[index, 1])\n"
      ],
      "metadata": {
        "id": "9gDetMHx2QFh"
      },
      "execution_count": null,
      "outputs": []
    },
    {
      "cell_type": "code",
      "source": [
        "ANNOTATIONS_FILE = \"/content/drive/MyDrive/Стажировки/Burnaev_lab/FloodNet_Dataset/annotations_file.csv\"\n",
        "DATASET_DIR = '/content/drive/MyDrive/Стажировки/Burnaev_lab/FloodNet_Dataset/FloodNet-Supervised_v1.0'\n",
        "device = torch.device(\"cuda\" if torch.cuda.is_available() else \"cpu\")  "
      ],
      "metadata": {
        "id": "EyM8UdXa2Ty3"
      },
      "execution_count": null,
      "outputs": []
    },
    {
      "cell_type": "code",
      "source": [
        "transform = transforms.Compose([\n",
        "                      transforms.ToPILImage(),\n",
        "                      transforms.Resize((64, 64)),\n",
        "                      transforms.ToTensor(), \n",
        "                      transforms.Normalize(\n",
        "                          mean=(0.5, 0.5, 0.5), \n",
        "                          std=(0.5, 0.5, 0.5))\n",
        "                  ])"
      ],
      "metadata": {
        "id": "JNBdjEM12V6F"
      },
      "execution_count": null,
      "outputs": []
    },
    {
      "cell_type": "code",
      "source": [
        "train_dataset = FloodNetDataset(ANNOTATIONS_FILE, DATASET_DIR, mode='train', transform=transform)\n",
        "# print(f\"There are {len(train_dataset)} samples in the dataset.\")\n",
        "# val_dataset = FloodNetDataset(ANNOTATIONS_FILE, DATASET_DIR, mode='val', transform=transform)\n",
        "# print(f\"There are {len(val_dataset)} samples in the dataset.\")\n",
        "# test_dataset = FloodNetDataset(ANNOTATIONS_FILE, DATASET_DIR, mode='test', transform=transform)\n",
        "# print(f\"There are {len(test_dataset)} samples in the dataset.\")"
      ],
      "metadata": {
        "id": "7xSKILXH2YZH"
      },
      "execution_count": null,
      "outputs": []
    },
    {
      "cell_type": "code",
      "source": [
        "image, label = train_dataset[5]\n",
        "plot_image(image)"
      ],
      "metadata": {
        "colab": {
          "base_uri": "https://localhost:8080/",
          "height": 268
        },
        "id": "dq6fCHkA2lWA",
        "outputId": "cb2c67cb-d812-4d64-a6b6-b57520c7c777"
      },
      "execution_count": null,
      "outputs": [
        {
          "output_type": "display_data",
          "data": {
            "text/plain": [
              "<Figure size 432x288 with 1 Axes>"
            ],
            "image/png": "[encoded data removed]"
          },
          "metadata": {
            "needs_background": "light"
          }
        }
      ]
    },
    {
      "cell_type": "code",
      "source": [
        "dataloader = DataLoader(dataset=train_dataset, batch_size=32, shuffle=True, num_workers=2)\n",
        "optim = torch.optim.Adam(ddpm.parameters(), lr=1e-4)"
      ],
      "metadata": {
        "id": "64V5fK9R2pUU"
      },
      "execution_count": null,
      "outputs": []
    },
    {
      "cell_type": "markdown",
      "source": [
        "### Train"
      ],
      "metadata": {
        "id": "_kSWtLL8xVpZ"
      }
    },
    {
      "cell_type": "markdown",
      "source": [
        "#### CIFAR10"
      ],
      "metadata": {
        "id": "7xfIe8WnxYLc"
      }
    },
    {
      "cell_type": "code",
      "source": [
        "n_epoch = 100"
      ],
      "metadata": {
        "id": "gaP6-fJxxS3V"
      },
      "execution_count": null,
      "outputs": []
    },
    {
      "cell_type": "code",
      "source": [
        "for i in range(n_epoch):\n",
        "      print(f\"Epoch {i} : \")\n",
        "      ddpm.train()\n",
        "\n",
        "      pbar = tqdm(dataloader)\n",
        "      loss_ema = None\n",
        "      for x, _ in pbar:\n",
        "          optim.zero_grad()\n",
        "          x = x.to(device)\n",
        "          loss = ddpm(x)\n",
        "          loss.backward()\n",
        "          if loss_ema is None:\n",
        "              loss_ema = loss.item()\n",
        "          else:\n",
        "              loss_ema = 0.9 * loss_ema + 0.1 * loss.item()\n",
        "          pbar.set_description(f\"loss: {loss_ema:.4f}\")\n",
        "          optim.step()\n",
        "\n",
        "      ddpm.eval()\n",
        "      with torch.no_grad():\n",
        "          xh = ddpm.sample(8, (3, 32, 32), device)\n",
        "          xset = torch.cat([xh, x[:8]], dim=0)\n",
        "          grid = make_grid(xset, normalize=True, value_range=(-1, 1), nrow=4)\n",
        "          save_image(grid, f\"./contents/cifar_samples/ddpm_sample_cifar{i}.png\")\n",
        "\n",
        "          # save model\n",
        "          torch.save(ddpm.state_dict(), f\"./ddpm_cifar.pth\")"
      ],
      "metadata": {
        "colab": {
          "base_uri": "https://localhost:8080/"
        },
        "id": "sCVE7iQgxbtt",
        "outputId": "573b3d43-346b-41e8-9bbb-75a1dfe96e90"
      },
      "execution_count": null,
      "outputs": [
        {
          "output_type": "stream",
          "name": "stdout",
          "text": [
            "Epoch 0 : \n"
          ]
        },
        {
          "output_type": "stream",
          "name": "stderr",
          "text": [
            "\r  0%|          | 0/98 [00:00<?, ?it/s]/usr/local/lib/python3.7/dist-packages/torch/utils/data/dataloader.py:490: UserWarning: This DataLoader will create 16 worker processes in total. Our suggested max number of worker in current system is 2, which is smaller than what this DataLoader is going to create. Please be aware that excessive worker creation might get DataLoader running slow or even freeze, lower the worker number to avoid potential slowness/freeze if necessary.\n",
            "  cpuset_checked))\n",
            "loss: 0.9409:  45%|████▍     | 44/98 [01:02<01:13,  1.36s/it]"
          ]
        }
      ]
    },
    {
      "cell_type": "markdown",
      "source": [
        "#### FlooNet Dataset"
      ],
      "metadata": {
        "id": "ZaqzmLFV3f_f"
      }
    },
    {
      "cell_type": "code",
      "source": [
        "n_epoch = 100\n",
        "for i in range(n_epoch):\n",
        "    print(f\"Epoch {i} : \")\n",
        "    ddpm.train()\n",
        "\n",
        "    pbar = tqdm(dataloader)\n",
        "    loss_ema = None\n",
        "    number = 0\n",
        "    \n",
        "    for x, _ in pbar:\n",
        "        optim.zero_grad()\n",
        "        x = x.to(device)\n",
        "        if number == 0:\n",
        "            x_orig = x\n",
        "            number += 1\n",
        "        loss = ddpm(x)\n",
        "        loss.backward()\n",
        "        if loss_ema is None:\n",
        "            loss_ema = loss.item()\n",
        "        else:\n",
        "            loss_ema = 0.9 * loss_ema + 0.1 * loss.item()\n",
        "        pbar.set_description(f\"loss: {loss_ema:.4f}\")\n",
        "        optim.step()\n",
        "\n",
        "    ddpm.eval()\n",
        "    with torch.no_grad():\n",
        "\n",
        "        xh = ddpm.sample(8, (3, 64, 64), device)\n",
        "\n",
        "        xset = torch.cat([xh, x_orig[:8]], dim=0)\n",
        "        grid = make_grid(xset, normalize=True, value_range=(-1, 1), nrow=4)\n",
        "        save_image(grid, f\"./contents/floodnet_samples/ddpm_sample_floodnet_short{i}.png\")\n",
        "\n",
        "        # save model\n",
        "        torch.save(ddpm.state_dict(), f\"./ddpm_floodnet_short.pth\")"
      ],
      "metadata": {
        "colab": {
          "base_uri": "https://localhost:8080/"
        },
        "id": "afwWoZJa3llH",
        "outputId": "eedcae6f-d108-4bd6-9da8-c6e4c922eff1"
      },
      "execution_count": null,
      "outputs": [
        {
          "output_type": "stream",
          "name": "stdout",
          "text": [
            "Epoch 0 : \n"
          ]
        },
        {
          "output_type": "stream",
          "name": "stderr",
          "text": [
            "loss: 0.2390: 100%|██████████| 46/46 [06:47<00:00,  8.86s/it]\n"
          ]
        },
        {
          "output_type": "stream",
          "name": "stdout",
          "text": [
            "Epoch 1 : \n"
          ]
        },
        {
          "output_type": "stream",
          "name": "stderr",
          "text": [
            "loss: 0.1049: 100%|██████████| 46/46 [06:19<00:00,  8.24s/it]\n"
          ]
        },
        {
          "output_type": "stream",
          "name": "stdout",
          "text": [
            "Epoch 2 : \n"
          ]
        },
        {
          "output_type": "stream",
          "name": "stderr",
          "text": [
            "loss: 0.0736: 100%|██████████| 46/46 [06:15<00:00,  8.16s/it]\n"
          ]
        },
        {
          "output_type": "stream",
          "name": "stdout",
          "text": [
            "Epoch 3 : \n"
          ]
        },
        {
          "output_type": "stream",
          "name": "stderr",
          "text": [
            "loss: 0.0642: 100%|██████████| 46/46 [06:15<00:00,  8.16s/it]\n"
          ]
        },
        {
          "output_type": "stream",
          "name": "stdout",
          "text": [
            "Epoch 4 : \n"
          ]
        },
        {
          "output_type": "stream",
          "name": "stderr",
          "text": [
            "loss: 0.0567: 100%|██████████| 46/46 [06:10<00:00,  8.06s/it]\n"
          ]
        },
        {
          "output_type": "stream",
          "name": "stdout",
          "text": [
            "Epoch 5 : \n"
          ]
        },
        {
          "output_type": "stream",
          "name": "stderr",
          "text": [
            "loss: 0.0509: 100%|██████████| 46/46 [06:13<00:00,  8.12s/it]\n"
          ]
        },
        {
          "output_type": "stream",
          "name": "stdout",
          "text": [
            "Epoch 6 : \n"
          ]
        },
        {
          "output_type": "stream",
          "name": "stderr",
          "text": [
            "loss: 0.0517: 100%|██████████| 46/46 [06:11<00:00,  8.08s/it]\n"
          ]
        },
        {
          "output_type": "stream",
          "name": "stdout",
          "text": [
            "Epoch 7 : \n"
          ]
        },
        {
          "output_type": "stream",
          "name": "stderr",
          "text": [
            "loss: 0.0438: 100%|██████████| 46/46 [06:10<00:00,  8.06s/it]\n"
          ]
        },
        {
          "output_type": "stream",
          "name": "stdout",
          "text": [
            "Epoch 8 : \n"
          ]
        },
        {
          "output_type": "stream",
          "name": "stderr",
          "text": [
            "loss: 0.0468: 100%|██████████| 46/46 [06:14<00:00,  8.13s/it]\n"
          ]
        },
        {
          "output_type": "stream",
          "name": "stdout",
          "text": [
            "Epoch 9 : \n"
          ]
        },
        {
          "output_type": "stream",
          "name": "stderr",
          "text": [
            "loss: 0.0444: 100%|██████████| 46/46 [06:09<00:00,  8.04s/it]\n"
          ]
        },
        {
          "output_type": "stream",
          "name": "stdout",
          "text": [
            "Epoch 10 : \n"
          ]
        },
        {
          "output_type": "stream",
          "name": "stderr",
          "text": [
            "loss: 0.0492: 100%|██████████| 46/46 [06:13<00:00,  8.11s/it]\n"
          ]
        },
        {
          "output_type": "stream",
          "name": "stdout",
          "text": [
            "Epoch 11 : \n"
          ]
        },
        {
          "output_type": "stream",
          "name": "stderr",
          "text": [
            "loss: 0.0409: 100%|██████████| 46/46 [06:14<00:00,  8.15s/it]\n"
          ]
        },
        {
          "output_type": "stream",
          "name": "stdout",
          "text": [
            "Epoch 12 : \n"
          ]
        },
        {
          "output_type": "stream",
          "name": "stderr",
          "text": [
            "loss: 0.0412: 100%|██████████| 46/46 [06:12<00:00,  8.11s/it]\n"
          ]
        },
        {
          "output_type": "stream",
          "name": "stdout",
          "text": [
            "Epoch 13 : \n"
          ]
        },
        {
          "output_type": "stream",
          "name": "stderr",
          "text": [
            "loss: 0.0444: 100%|██████████| 46/46 [06:11<00:00,  8.08s/it]\n"
          ]
        },
        {
          "output_type": "stream",
          "name": "stdout",
          "text": [
            "Epoch 14 : \n"
          ]
        },
        {
          "output_type": "stream",
          "name": "stderr",
          "text": [
            "loss: 0.0322: 100%|██████████| 46/46 [06:10<00:00,  8.05s/it]\n"
          ]
        },
        {
          "output_type": "stream",
          "name": "stdout",
          "text": [
            "Epoch 15 : \n"
          ]
        },
        {
          "output_type": "stream",
          "name": "stderr",
          "text": [
            "loss: 0.0369: 100%|██████████| 46/46 [06:06<00:00,  7.96s/it]\n"
          ]
        },
        {
          "output_type": "stream",
          "name": "stdout",
          "text": [
            "Epoch 16 : \n"
          ]
        },
        {
          "output_type": "stream",
          "name": "stderr",
          "text": [
            "loss: 0.0343: 100%|██████████| 46/46 [06:10<00:00,  8.04s/it]\n"
          ]
        },
        {
          "output_type": "stream",
          "name": "stdout",
          "text": [
            "Epoch 17 : \n"
          ]
        },
        {
          "output_type": "stream",
          "name": "stderr",
          "text": [
            "loss: 0.0467: 100%|██████████| 46/46 [06:07<00:00,  7.98s/it]\n"
          ]
        },
        {
          "output_type": "stream",
          "name": "stdout",
          "text": [
            "Epoch 18 : \n"
          ]
        },
        {
          "output_type": "stream",
          "name": "stderr",
          "text": [
            "loss: 0.0345: 100%|██████████| 46/46 [06:09<00:00,  8.04s/it]\n"
          ]
        },
        {
          "output_type": "stream",
          "name": "stdout",
          "text": [
            "Epoch 19 : \n"
          ]
        },
        {
          "output_type": "stream",
          "name": "stderr",
          "text": [
            "loss: 0.0373: 100%|██████████| 46/46 [06:10<00:00,  8.06s/it]\n"
          ]
        },
        {
          "output_type": "stream",
          "name": "stdout",
          "text": [
            "Epoch 20 : \n"
          ]
        },
        {
          "output_type": "stream",
          "name": "stderr",
          "text": [
            "loss: 0.0420: 100%|██████████| 46/46 [06:08<00:00,  8.00s/it]\n"
          ]
        },
        {
          "output_type": "stream",
          "name": "stdout",
          "text": [
            "Epoch 21 : \n"
          ]
        },
        {
          "output_type": "stream",
          "name": "stderr",
          "text": [
            "loss: 0.0373: 100%|██████████| 46/46 [06:08<00:00,  8.02s/it]\n"
          ]
        },
        {
          "output_type": "stream",
          "name": "stdout",
          "text": [
            "Epoch 22 : \n"
          ]
        },
        {
          "output_type": "stream",
          "name": "stderr",
          "text": [
            "loss: 0.0327: 100%|██████████| 46/46 [06:07<00:00,  7.99s/it]\n"
          ]
        },
        {
          "output_type": "stream",
          "name": "stdout",
          "text": [
            "Epoch 23 : \n"
          ]
        },
        {
          "output_type": "stream",
          "name": "stderr",
          "text": [
            "loss: 0.0398: 100%|██████████| 46/46 [06:10<00:00,  8.05s/it]\n"
          ]
        },
        {
          "output_type": "stream",
          "name": "stdout",
          "text": [
            "Epoch 24 : \n"
          ]
        },
        {
          "output_type": "stream",
          "name": "stderr",
          "text": [
            "loss: 0.0309: 100%|██████████| 46/46 [06:11<00:00,  8.07s/it]\n"
          ]
        },
        {
          "output_type": "stream",
          "name": "stdout",
          "text": [
            "Epoch 25 : \n"
          ]
        },
        {
          "output_type": "stream",
          "name": "stderr",
          "text": [
            "loss: 0.0310: 100%|██████████| 46/46 [06:10<00:00,  8.06s/it]\n"
          ]
        },
        {
          "output_type": "stream",
          "name": "stdout",
          "text": [
            "Epoch 26 : \n"
          ]
        },
        {
          "output_type": "stream",
          "name": "stderr",
          "text": [
            "loss: 0.0313:  43%|████▎     | 20/46 [02:40<02:58,  6.88s/it]"
          ]
        }
      ]
    }
  ]
}